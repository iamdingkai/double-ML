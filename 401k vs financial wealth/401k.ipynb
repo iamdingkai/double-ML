{
 "cells": [
  {
   "cell_type": "code",
   "execution_count": 2,
   "metadata": {},
   "outputs": [],
   "source": [
    "import numpy as np\n",
    "import pandas as pd\n",
    "import doubleml as dml\n",
    "from doubleml.datasets import fetch_401K\n",
    "\n",
    "from sklearn.preprocessing import PolynomialFeatures\n",
    "from sklearn.linear_model import LassoCV, LogisticRegressionCV\n",
    "from sklearn.ensemble import RandomForestClassifier, RandomForestRegressor\n",
    "from sklearn.tree import DecisionTreeClassifier, DecisionTreeRegressor\n",
    "from sklearn.preprocessing import StandardScaler\n",
    "from sklearn.pipeline import make_pipeline\n",
    "\n",
    "from xgboost import XGBClassifier, XGBRegressor\n",
    "\n",
    "import matplotlib.pyplot as plt\n",
    "import seaborn as sns"
   ]
  },
  {
   "cell_type": "code",
   "execution_count": 4,
   "metadata": {},
   "outputs": [
    {
     "data": {
      "text/html": [
       "<div>\n",
       "<style scoped>\n",
       "    .dataframe tbody tr th:only-of-type {\n",
       "        vertical-align: middle;\n",
       "    }\n",
       "\n",
       "    .dataframe tbody tr th {\n",
       "        vertical-align: top;\n",
       "    }\n",
       "\n",
       "    .dataframe thead th {\n",
       "        text-align: right;\n",
       "    }\n",
       "</style>\n",
       "<table border=\"1\" class=\"dataframe\">\n",
       "  <thead>\n",
       "    <tr style=\"text-align: right;\">\n",
       "      <th></th>\n",
       "      <th>nifa</th>\n",
       "      <th>net_tfa</th>\n",
       "      <th>tw</th>\n",
       "      <th>age</th>\n",
       "      <th>inc</th>\n",
       "      <th>fsize</th>\n",
       "      <th>educ</th>\n",
       "      <th>db</th>\n",
       "      <th>marr</th>\n",
       "      <th>twoearn</th>\n",
       "      <th>e401</th>\n",
       "      <th>p401</th>\n",
       "      <th>pira</th>\n",
       "      <th>hown</th>\n",
       "    </tr>\n",
       "  </thead>\n",
       "  <tbody>\n",
       "    <tr>\n",
       "      <th>0</th>\n",
       "      <td>0.0</td>\n",
       "      <td>0.0</td>\n",
       "      <td>4500.0</td>\n",
       "      <td>47</td>\n",
       "      <td>6765.0</td>\n",
       "      <td>2</td>\n",
       "      <td>8</td>\n",
       "      <td>0</td>\n",
       "      <td>0</td>\n",
       "      <td>0</td>\n",
       "      <td>0</td>\n",
       "      <td>0</td>\n",
       "      <td>0</td>\n",
       "      <td>1</td>\n",
       "    </tr>\n",
       "    <tr>\n",
       "      <th>1</th>\n",
       "      <td>6215.0</td>\n",
       "      <td>1015.0</td>\n",
       "      <td>22390.0</td>\n",
       "      <td>36</td>\n",
       "      <td>28452.0</td>\n",
       "      <td>1</td>\n",
       "      <td>16</td>\n",
       "      <td>0</td>\n",
       "      <td>0</td>\n",
       "      <td>0</td>\n",
       "      <td>0</td>\n",
       "      <td>0</td>\n",
       "      <td>0</td>\n",
       "      <td>1</td>\n",
       "    </tr>\n",
       "    <tr>\n",
       "      <th>2</th>\n",
       "      <td>0.0</td>\n",
       "      <td>-2000.0</td>\n",
       "      <td>-2000.0</td>\n",
       "      <td>37</td>\n",
       "      <td>3300.0</td>\n",
       "      <td>6</td>\n",
       "      <td>12</td>\n",
       "      <td>1</td>\n",
       "      <td>0</td>\n",
       "      <td>0</td>\n",
       "      <td>0</td>\n",
       "      <td>0</td>\n",
       "      <td>0</td>\n",
       "      <td>0</td>\n",
       "    </tr>\n",
       "    <tr>\n",
       "      <th>3</th>\n",
       "      <td>15000.0</td>\n",
       "      <td>15000.0</td>\n",
       "      <td>155000.0</td>\n",
       "      <td>58</td>\n",
       "      <td>52590.0</td>\n",
       "      <td>2</td>\n",
       "      <td>16</td>\n",
       "      <td>0</td>\n",
       "      <td>1</td>\n",
       "      <td>1</td>\n",
       "      <td>0</td>\n",
       "      <td>0</td>\n",
       "      <td>0</td>\n",
       "      <td>1</td>\n",
       "    </tr>\n",
       "    <tr>\n",
       "      <th>4</th>\n",
       "      <td>0.0</td>\n",
       "      <td>0.0</td>\n",
       "      <td>58000.0</td>\n",
       "      <td>32</td>\n",
       "      <td>21804.0</td>\n",
       "      <td>1</td>\n",
       "      <td>11</td>\n",
       "      <td>0</td>\n",
       "      <td>0</td>\n",
       "      <td>0</td>\n",
       "      <td>0</td>\n",
       "      <td>0</td>\n",
       "      <td>0</td>\n",
       "      <td>1</td>\n",
       "    </tr>\n",
       "  </tbody>\n",
       "</table>\n",
       "</div>"
      ],
      "text/plain": [
       "      nifa  net_tfa        tw  age      inc  fsize  educ  db  marr  twoearn  \\\n",
       "0      0.0      0.0    4500.0   47   6765.0      2     8   0     0        0   \n",
       "1   6215.0   1015.0   22390.0   36  28452.0      1    16   0     0        0   \n",
       "2      0.0  -2000.0   -2000.0   37   3300.0      6    12   1     0        0   \n",
       "3  15000.0  15000.0  155000.0   58  52590.0      2    16   0     1        1   \n",
       "4      0.0      0.0   58000.0   32  21804.0      1    11   0     0        0   \n",
       "\n",
       "   e401  p401  pira  hown  \n",
       "0     0     0     0     1  \n",
       "1     0     0     0     1  \n",
       "2     0     0     0     0  \n",
       "3     0     0     0     1  \n",
       "4     0     0     0     1  "
      ]
     },
     "execution_count": 4,
     "metadata": {},
     "output_type": "execute_result"
    }
   ],
   "source": [
    "data = fetch_401K(return_type='DataFrame')\n",
    "dtypes = data.dtypes\n",
    "dtypes['nifa'] = 'float64'\n",
    "dtypes['net_tfa'] = 'float64'\n",
    "dtypes['tw'] = 'float64'\n",
    "dtypes['inc'] = 'float64'\n",
    "data = data.astype(dtypes)\n",
    "data.head()"
   ]
  },
  {
   "cell_type": "code",
   "execution_count": null,
   "metadata": {},
   "outputs": [],
   "source": [
    "# net_tfa: net financial wealth (Y)\n",
    "\n",
    "# nifa: net income\n",
    "# e401: 401k eligibility indicator\n",
    "# p401: 401k participation indicator\n",
    "# pira: IRA participation indicator\n",
    "# inc: income\n",
    "# fsize: family size\n",
    "# educ: years of education\n",
    "# db: \n",
    "# marr: marrital status\n",
    "# twoearn: two earner indicator\n",
    "# hown: home owner indicator\n"
   ]
  },
  {
   "cell_type": "code",
   "execution_count": 15,
   "metadata": {},
   "outputs": [
    {
     "data": {
      "text/plain": [
       "<seaborn.axisgrid.FacetGrid at 0x7f8c135e9810>"
      ]
     },
     "execution_count": 15,
     "metadata": {},
     "output_type": "execute_result"
    },
    {
     "data": {
      "image/png": "[encoded data removed]",
      "text/plain": [
       "<Figure size 1194.38x576 with 1 Axes>"
      ]
     },
     "metadata": {
      "needs_background": "light"
     },
     "output_type": "display_data"
    }
   ],
   "source": [
    "sns.displot(\n",
    "    data,\n",
    "    x='net_tfa',\n",
    "    hue='e401',\n",
    "    kind='kde',\n",
    "    fill=True,\n",
    "    height=8,\n",
    "    aspect=2,\n",
    ")"
   ]
  },
  {
   "cell_type": "code",
   "execution_count": 17,
   "metadata": {},
   "outputs": [
    {
     "data": {
      "text/html": [
       "<div>\n",
       "<style scoped>\n",
       "    .dataframe tbody tr th:only-of-type {\n",
       "        vertical-align: middle;\n",
       "    }\n",
       "\n",
       "    .dataframe tbody tr th {\n",
       "        vertical-align: top;\n",
       "    }\n",
       "\n",
       "    .dataframe thead th {\n",
       "        text-align: right;\n",
       "    }\n",
       "</style>\n",
       "<table border=\"1\" class=\"dataframe\">\n",
       "  <thead>\n",
       "    <tr style=\"text-align: right;\">\n",
       "      <th></th>\n",
       "      <th>net_tfa</th>\n",
       "    </tr>\n",
       "    <tr>\n",
       "      <th>e401</th>\n",
       "      <th></th>\n",
       "    </tr>\n",
       "  </thead>\n",
       "  <tbody>\n",
       "    <tr>\n",
       "      <th>0</th>\n",
       "      <td>10788.044441</td>\n",
       "    </tr>\n",
       "    <tr>\n",
       "      <th>1</th>\n",
       "      <td>30347.389191</td>\n",
       "    </tr>\n",
       "  </tbody>\n",
       "</table>\n",
       "</div>"
      ],
      "text/plain": [
       "           net_tfa\n",
       "e401              \n",
       "0     10788.044441\n",
       "1     30347.389191"
      ]
     },
     "execution_count": 17,
     "metadata": {},
     "output_type": "execute_result"
    }
   ],
   "source": [
    "data.groupby('e401')[['net_tfa']].mean()"
   ]
  },
  {
   "cell_type": "code",
   "execution_count": 18,
   "metadata": {},
   "outputs": [
    {
     "data": {
      "text/html": [
       "<div>\n",
       "<style scoped>\n",
       "    .dataframe tbody tr th:only-of-type {\n",
       "        vertical-align: middle;\n",
       "    }\n",
       "\n",
       "    .dataframe tbody tr th {\n",
       "        vertical-align: top;\n",
       "    }\n",
       "\n",
       "    .dataframe thead th {\n",
       "        text-align: right;\n",
       "    }\n",
       "</style>\n",
       "<table border=\"1\" class=\"dataframe\">\n",
       "  <thead>\n",
       "    <tr style=\"text-align: right;\">\n",
       "      <th></th>\n",
       "      <th>net_tfa</th>\n",
       "    </tr>\n",
       "    <tr>\n",
       "      <th>p401</th>\n",
       "      <th></th>\n",
       "    </tr>\n",
       "  </thead>\n",
       "  <tbody>\n",
       "    <tr>\n",
       "      <th>0</th>\n",
       "      <td>10890.477121</td>\n",
       "    </tr>\n",
       "    <tr>\n",
       "      <th>1</th>\n",
       "      <td>38262.060524</td>\n",
       "    </tr>\n",
       "  </tbody>\n",
       "</table>\n",
       "</div>"
      ],
      "text/plain": [
       "           net_tfa\n",
       "p401              \n",
       "0     10890.477121\n",
       "1     38262.060524"
      ]
     },
     "execution_count": 18,
     "metadata": {},
     "output_type": "execute_result"
    }
   ],
   "source": [
    "data.groupby('p401')[['net_tfa']].mean()"
   ]
  },
  {
   "cell_type": "markdown",
   "metadata": {},
   "source": [
    "## PLR: Partial Linear Regression "
   ]
  },
  {
   "cell_type": "code",
   "execution_count": 25,
   "metadata": {},
   "outputs": [
    {
     "data": {
      "text/html": [
       "<div>\n",
       "<style scoped>\n",
       "    .dataframe tbody tr th:only-of-type {\n",
       "        vertical-align: middle;\n",
       "    }\n",
       "\n",
       "    .dataframe tbody tr th {\n",
       "        vertical-align: top;\n",
       "    }\n",
       "\n",
       "    .dataframe thead th {\n",
       "        text-align: right;\n",
       "    }\n",
       "</style>\n",
       "<table border=\"1\" class=\"dataframe\">\n",
       "  <thead>\n",
       "    <tr style=\"text-align: right;\">\n",
       "      <th></th>\n",
       "      <th>coef</th>\n",
       "      <th>std err</th>\n",
       "      <th>t</th>\n",
       "      <th>P&gt;|t|</th>\n",
       "      <th>2.5 %</th>\n",
       "      <th>97.5 %</th>\n",
       "    </tr>\n",
       "  </thead>\n",
       "  <tbody>\n",
       "    <tr>\n",
       "      <th>e401</th>\n",
       "      <td>5635.792044</td>\n",
       "      <td>1349.771564</td>\n",
       "      <td>4.175367</td>\n",
       "      <td>0.00003</td>\n",
       "      <td>2990.288392</td>\n",
       "      <td>8281.295697</td>\n",
       "    </tr>\n",
       "  </tbody>\n",
       "</table>\n",
       "</div>"
      ],
      "text/plain": [
       "             coef      std err         t    P>|t|        2.5 %       97.5 %\n",
       "e401  5635.792044  1349.771564  4.175367  0.00003  2990.288392  8281.295697"
      ]
     },
     "execution_count": 25,
     "metadata": {},
     "output_type": "execute_result"
    }
   ],
   "source": [
    "# base linear/lasso to remove X's effect\n",
    "\n",
    "features_base = ['age', 'inc', 'educ', 'fsize', 'marr', 'twoearn', 'db', 'pira', 'hown']\n",
    "data_dml_base = dml.DoubleMLData(\n",
    "    data,\n",
    "    y_col = 'net_tfa',\n",
    "    d_cols = 'e401',\n",
    "    x_cols = features_base,\n",
    ")\n",
    "dml_base = dml.DoubleMLPLR(\n",
    "    data_dml_base,\n",
    "    ml_l = make_pipeline(StandardScaler(), LassoCV(cv=5, max_iter=10_000)), # outcome Y\n",
    "    ml_m = make_pipeline(StandardScaler(), LogisticRegressionCV(cv=5, penalty='l1', solver='liblinear', Cs=1e-4*np.logspace(0,4, 10), max_iter=1000)), # treatment D\n",
    "    n_folds = 3,\n",
    ")\n",
    "dml_base.fit(\n",
    "    store_predictions=True,\n",
    ")\n",
    "dml_base.summary"
   ]
  },
  {
   "cell_type": "code",
   "execution_count": 26,
   "metadata": {},
   "outputs": [
    {
     "data": {
      "text/html": [
       "<div>\n",
       "<style scoped>\n",
       "    .dataframe tbody tr th:only-of-type {\n",
       "        vertical-align: middle;\n",
       "    }\n",
       "\n",
       "    .dataframe tbody tr th {\n",
       "        vertical-align: top;\n",
       "    }\n",
       "\n",
       "    .dataframe thead th {\n",
       "        text-align: right;\n",
       "    }\n",
       "</style>\n",
       "<table border=\"1\" class=\"dataframe\">\n",
       "  <thead>\n",
       "    <tr style=\"text-align: right;\">\n",
       "      <th></th>\n",
       "      <th>coef</th>\n",
       "      <th>std err</th>\n",
       "      <th>t</th>\n",
       "      <th>P&gt;|t|</th>\n",
       "      <th>2.5 %</th>\n",
       "      <th>97.5 %</th>\n",
       "    </tr>\n",
       "  </thead>\n",
       "  <tbody>\n",
       "    <tr>\n",
       "      <th>e401</th>\n",
       "      <td>8613.72841</td>\n",
       "      <td>1295.569099</td>\n",
       "      <td>6.648606</td>\n",
       "      <td>2.958820e-11</td>\n",
       "      <td>6074.459637</td>\n",
       "      <td>11152.997183</td>\n",
       "    </tr>\n",
       "  </tbody>\n",
       "</table>\n",
       "</div>"
      ],
      "text/plain": [
       "            coef      std err         t         P>|t|        2.5 %  \\\n",
       "e401  8613.72841  1295.569099  6.648606  2.958820e-11  6074.459637   \n",
       "\n",
       "            97.5 %  \n",
       "e401  11152.997183  "
      ]
     },
     "execution_count": 26,
     "metadata": {},
     "output_type": "execute_result"
    }
   ],
   "source": [
    "# Decision Tree to remove effect of X\n",
    "\n",
    "dml_decision_tree = dml.DoubleMLPLR(\n",
    "    data_dml_base,\n",
    "    ml_l = DecisionTreeRegressor(max_depth=30, ccp_alpha=0.0046, min_samples_split=203, min_samples_leaf=67),\n",
    "    ml_m = DecisionTreeClassifier(max_depth=30, ccp_alpha=0.0046, min_samples_split=104, min_samples_leaf=34),\n",
    ")\n",
    "dml_decision_tree.fit(store_predictions=True)\n",
    "dml_decision_tree.summary"
   ]
  },
  {
   "cell_type": "code",
   "execution_count": 27,
   "metadata": {},
   "outputs": [
    {
     "data": {
      "text/html": [
       "<div>\n",
       "<style scoped>\n",
       "    .dataframe tbody tr th:only-of-type {\n",
       "        vertical-align: middle;\n",
       "    }\n",
       "\n",
       "    .dataframe tbody tr th {\n",
       "        vertical-align: top;\n",
       "    }\n",
       "\n",
       "    .dataframe thead th {\n",
       "        text-align: right;\n",
       "    }\n",
       "</style>\n",
       "<table border=\"1\" class=\"dataframe\">\n",
       "  <thead>\n",
       "    <tr style=\"text-align: right;\">\n",
       "      <th></th>\n",
       "      <th>coef</th>\n",
       "      <th>std err</th>\n",
       "      <th>t</th>\n",
       "      <th>P&gt;|t|</th>\n",
       "      <th>2.5 %</th>\n",
       "      <th>97.5 %</th>\n",
       "    </tr>\n",
       "  </thead>\n",
       "  <tbody>\n",
       "    <tr>\n",
       "      <th>e401</th>\n",
       "      <td>9295.603202</td>\n",
       "      <td>1376.565512</td>\n",
       "      <td>6.75275</td>\n",
       "      <td>1.450685e-11</td>\n",
       "      <td>6597.584376</td>\n",
       "      <td>11993.622028</td>\n",
       "    </tr>\n",
       "  </tbody>\n",
       "</table>\n",
       "</div>"
      ],
      "text/plain": [
       "             coef      std err        t         P>|t|        2.5 %  \\\n",
       "e401  9295.603202  1376.565512  6.75275  1.450685e-11  6597.584376   \n",
       "\n",
       "            97.5 %  \n",
       "e401  11993.622028  "
      ]
     },
     "execution_count": 27,
     "metadata": {},
     "output_type": "execute_result"
    }
   ],
   "source": [
    "# Boosted Tree\n",
    "\n",
    "dml_boosted_tree = dml.DoubleMLPLR(\n",
    "    data_dml_base,\n",
    "    ml_l = XGBRegressor(n_jobs=-1, objective='reg:squarederror', eta=0.1, n_estimators=35),\n",
    "    ml_m = XGBClassifier(use_label_encoder=False, n_jobs=-1, objective='binary:logistic', eval_metric='logloss', eta=0.1, n_estimators=35)\n",
    ")\n",
    "dml_boosted_tree.fit(store_predictions=True)\n",
    "dml_boosted_tree.summary"
   ]
  },
  {
   "cell_type": "code",
   "execution_count": 28,
   "metadata": {},
   "outputs": [
    {
     "data": {
      "text/html": [
       "<div>\n",
       "<style scoped>\n",
       "    .dataframe tbody tr th:only-of-type {\n",
       "        vertical-align: middle;\n",
       "    }\n",
       "\n",
       "    .dataframe tbody tr th {\n",
       "        vertical-align: top;\n",
       "    }\n",
       "\n",
       "    .dataframe thead th {\n",
       "        text-align: right;\n",
       "    }\n",
       "</style>\n",
       "<table border=\"1\" class=\"dataframe\">\n",
       "  <thead>\n",
       "    <tr style=\"text-align: right;\">\n",
       "      <th></th>\n",
       "      <th>coef</th>\n",
       "      <th>std err</th>\n",
       "      <th>t</th>\n",
       "      <th>P&gt;|t|</th>\n",
       "      <th>2.5 %</th>\n",
       "      <th>97.5 %</th>\n",
       "    </tr>\n",
       "  </thead>\n",
       "  <tbody>\n",
       "    <tr>\n",
       "      <th>lasso</th>\n",
       "      <td>5635.792044</td>\n",
       "      <td>1349.771564</td>\n",
       "      <td>4.175367</td>\n",
       "      <td>2.975056e-05</td>\n",
       "      <td>2990.288392</td>\n",
       "      <td>8281.295697</td>\n",
       "    </tr>\n",
       "    <tr>\n",
       "      <th>decision tree</th>\n",
       "      <td>8613.728410</td>\n",
       "      <td>1295.569099</td>\n",
       "      <td>6.648606</td>\n",
       "      <td>2.958820e-11</td>\n",
       "      <td>6074.459637</td>\n",
       "      <td>11152.997183</td>\n",
       "    </tr>\n",
       "    <tr>\n",
       "      <th>xgboost</th>\n",
       "      <td>9295.603202</td>\n",
       "      <td>1376.565512</td>\n",
       "      <td>6.752750</td>\n",
       "      <td>1.450685e-11</td>\n",
       "      <td>6597.584376</td>\n",
       "      <td>11993.622028</td>\n",
       "    </tr>\n",
       "  </tbody>\n",
       "</table>\n",
       "</div>"
      ],
      "text/plain": [
       "                      coef      std err         t         P>|t|        2.5 %  \\\n",
       "lasso          5635.792044  1349.771564  4.175367  2.975056e-05  2990.288392   \n",
       "decision tree  8613.728410  1295.569099  6.648606  2.958820e-11  6074.459637   \n",
       "xgboost        9295.603202  1376.565512  6.752750  1.450685e-11  6597.584376   \n",
       "\n",
       "                     97.5 %  \n",
       "lasso           8281.295697  \n",
       "decision tree  11152.997183  \n",
       "xgboost        11993.622028  "
      ]
     },
     "execution_count": 28,
     "metadata": {},
     "output_type": "execute_result"
    }
   ],
   "source": [
    "plr_summary = pd.concat(\n",
    "    [dml_base.summary, dml_decision_tree.summary, dml_boosted_tree.summary],\n",
    ")\n",
    "plr_summary.index = ['lasso', 'decision tree', 'xgboost']\n",
    "plr_summary"
   ]
  },
  {
   "cell_type": "code",
   "execution_count": 30,
   "metadata": {},
   "outputs": [
    {
     "data": {
      "text/plain": [
       "<ErrorbarContainer object of 3 artists>"
      ]
     },
     "execution_count": 30,
     "metadata": {},
     "output_type": "execute_result"
    },
    {
     "data": {
      "image/png": "[encoded data removed]",
      "text/plain": [
       "<Figure size 432x288 with 1 Axes>"
      ]
     },
     "metadata": {
      "needs_background": "light"
     },
     "output_type": "display_data"
    }
   ],
   "source": [
    "errors = np.full(shape=(2, plr_summary.shape[0]), fill_value=np.nan)\n",
    "errors[0, :] = plr_summary['coef'] - plr_summary['2.5 %']\n",
    "errors[1, :] = plr_summary['97.5 %'] - plr_summary['coef']\n",
    "\n",
    "plt.errorbar(\n",
    "    plr_summary.index,\n",
    "    plr_summary.coef,\n",
    "    fmt='o',\n",
    "    yerr=errors,\n",
    ")"
   ]
  },
  {
   "cell_type": "markdown",
   "metadata": {},
   "source": [
    "## IRM: Interactive Regression model "
   ]
  },
  {
   "cell_type": "code",
   "execution_count": null,
   "metadata": {},
   "outputs": [],
   "source": []
  },
  {
   "cell_type": "code",
   "execution_count": null,
   "metadata": {},
   "outputs": [],
   "source": []
  },
  {
   "cell_type": "code",
   "execution_count": null,
   "metadata": {},
   "outputs": [],
   "source": []
  },
  {
   "cell_type": "code",
   "execution_count": null,
   "metadata": {},
   "outputs": [],
   "source": []
  },
  {
   "cell_type": "code",
   "execution_count": null,
   "metadata": {},
   "outputs": [],
   "source": []
  },
  {
   "cell_type": "code",
   "execution_count": null,
   "metadata": {},
   "outputs": [],
   "source": []
  },
  {
   "cell_type": "code",
   "execution_count": null,
   "metadata": {},
   "outputs": [],
   "source": []
  },
  {
   "cell_type": "code",
   "execution_count": null,
   "metadata": {},
   "outputs": [],
   "source": []
  }
 ],
 "metadata": {
  "kernelspec": {
   "display_name": "double_ml",
   "language": "python",
   "name": "python3"
  },
  "language_info": {
   "codemirror_mode": {
    "name": "ipython",
    "version": 3
   },
   "file_extension": ".py",
   "mimetype": "text/x-python",
   "name": "python",
   "nbconvert_exporter": "python",
   "pygments_lexer": "ipython3",
   "version": "3.7.16"
  }
 },
 "nbformat": 4,
 "nbformat_minor": 2
}
